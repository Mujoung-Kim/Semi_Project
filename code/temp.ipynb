{
 "cells": [
  {
   "cell_type": "code",
   "execution_count": 1,
   "metadata": {},
   "outputs": [],
   "source": [
    "import tensorflow as tf\n",
    "from keras.models import Sequential\n",
    "from keras.layers import Dense, Dropout, Flatten, Conv2D,MaxPooling2D\n",
    "from keras.optimizers import Adam\n",
    "from keras.preprocessing.image import ImageDataGenerator\n",
    "from tensorflow.keras.preprocessing.image import img_to_array\n",
    "import numpy as np\n",
    "import matplotlib.pyplot as plt"
   ]
  },
  {
   "cell_type": "code",
   "execution_count": 2,
   "metadata": {},
   "outputs": [
    {
     "data": {
      "text/plain": [
       "'2.9.0'"
      ]
     },
     "execution_count": 2,
     "metadata": {},
     "output_type": "execute_result"
    }
   ],
   "source": [
    "tf.keras.__version__"
   ]
  },
  {
   "cell_type": "code",
   "execution_count": 3,
   "metadata": {},
   "outputs": [],
   "source": [
    "# 학습 데이터 경로\n",
    "TRAIN_DIR = 'mask_dataset/train'\n",
    "# 테스트 데이터 경로\n",
    "TEST_DIR = 'mask_dataset/test'"
   ]
  },
  {
   "cell_type": "code",
   "execution_count": 4,
   "metadata": {},
   "outputs": [],
   "source": [
    "# image 가로/세로 크기\n",
    "IMG_HEIGHT = 224\n",
    "IMG_WIDTH = 224"
   ]
  },
  {
   "cell_type": "code",
   "execution_count": 5,
   "metadata": {},
   "outputs": [],
   "source": [
    "# 학습에 사용될 이미지 데이터를 읽어오는 객체\n",
    "# 옵션을 통해 같은 이미지에 변형을 줄 수 있다.\n",
    "#  -> 적은 양의 데이터로 많은 양의 데이터 효과를 준다.\n",
    "datagen = ImageDataGenerator(\n",
    "\t\trotation_range=180,\t\t\t\t# 회전 최대 180도\n",
    "\t\twidth_shift_range=0.2,\t\t\t# 좌우 이동 최대 이미지 가로사이즈 20%\n",
    "\t\theight_shift_range=0.2,\t\t\t# 상하 이동 최대 이미지  세로사이즈 20%\n",
    "\t\thorizontal_flip=True,\t\t\t# 좌우 반전 실행\n",
    "\t\tvertical_flip=True,\t\t\t\t# 상하 반전 실행 \n",
    "\t\trescale=1 / 255.0,\t\t\t\t# 이미지를 255로 나눠서 0 ~ 1 사이값으로 변환\n",
    "\t\tbrightness_range=[0.5, 1.2],\t# 이미지 밝기 조정 -> 0 : 완전 어두운 이미지  1: 원본 밝기\n",
    "\t\t\t\t\t\t\t\t\t\t#  \t\t\t\t\t0.5: 원본 50% 밝기 1.2 : 원본보다 20% 밝은 이미지\n",
    "\t\tzoom_range=[0.8, 1.2])\t\t\t# 이미지 확대 0.8: 원본 80% 확대  1.2 : 원본 120% 확대"
   ]
  },
  {
   "cell_type": "code",
   "execution_count": 6,
   "metadata": {},
   "outputs": [
    {
     "name": "stdout",
     "output_type": "stream",
     "text": [
      "Found 1659 images belonging to 3 classes.\n"
     ]
    }
   ],
   "source": [
    "train_generator = datagen.flow_from_directory(\n",
    "\t\tTRAIN_DIR,\t\t\t\t\t\t\t\t# 데이터셋 경로 -> 이미지 경로\n",
    "\t\ttarget_size=(IMG_HEIGHT, IMG_WIDTH),\t# 이미지의 크기\n",
    "\t\tbatch_size=64,\t\t\t\t\t\t\t# 한 번이 반환할 이미지의 개수 설정\n",
    "\t\tclass_mode='categorical',\t\t\t\t# 분류 방법 ->  categorical : 다중분류(onehot), binary : 이진분류\n",
    "\t\t\t\t\t\t\t\t\t\t\t\t#\t\t\t   sparse : 다중분류(레이블 encoding)\n",
    "\t\tshuffle=True)\t\t\t\t\t\t\t# 데이터를 섞는다"
   ]
  },
  {
   "cell_type": "code",
   "execution_count": 7,
   "metadata": {},
   "outputs": [],
   "source": [
    "test_datagen = ImageDataGenerator(rescale=1 / 255.0)"
   ]
  },
  {
   "cell_type": "code",
   "execution_count": 8,
   "metadata": {},
   "outputs": [
    {
     "name": "stdout",
     "output_type": "stream",
     "text": [
      "Found 419 images belonging to 3 classes.\n"
     ]
    }
   ],
   "source": [
    "test_generator = test_datagen.flow_from_directory(\n",
    "        TEST_DIR,\n",
    "        target_size=(IMG_HEIGHT, IMG_WIDTH),\n",
    "        batch_size=64,\n",
    "        class_mode='categorical',\n",
    "        shuffle=False)"
   ]
  },
  {
   "cell_type": "code",
   "execution_count": 9,
   "metadata": {},
   "outputs": [
    {
     "data": {
      "text/plain": [
       "1659"
      ]
     },
     "execution_count": 9,
     "metadata": {},
     "output_type": "execute_result"
    }
   ],
   "source": [
    "# 학습데이터의 전체 갯수 조회\n",
    "train_generator.n"
   ]
  },
  {
   "cell_type": "code",
   "execution_count": 10,
   "metadata": {},
   "outputs": [
    {
     "data": {
      "text/plain": [
       "419"
      ]
     },
     "execution_count": 10,
     "metadata": {},
     "output_type": "execute_result"
    }
   ],
   "source": [
    "# 테스트 데이터의 전체 갯수 조회\n",
    "test_generator.n"
   ]
  },
  {
   "cell_type": "code",
   "execution_count": 11,
   "metadata": {},
   "outputs": [],
   "source": [
    "# image, label을 batch_size만큼 뽑아서 대입\n",
    "img, label = train_generator.next()"
   ]
  },
  {
   "cell_type": "code",
   "execution_count": null,
   "metadata": {},
   "outputs": [
    {
     "ename": "",
     "evalue": "",
     "output_type": "error",
     "traceback": [
      "\u001b[1;31mCanceled future for execute_request message before replies were done"
     ]
    },
    {
     "ename": "",
     "evalue": "",
     "output_type": "error",
     "traceback": [
      "\u001b[1;31m현재 셀 또는 이전 셀에서 코드를 실행하는 동안 Kernel이 충돌했습니다. 셀의 코드를 검토하여 오류의 가능한 원인을 식별하세요. 자세한 내용을 보려면 <a href='https://aka.ms/vscodeJupyterKernelCrash'> 여기 </a> 를 클릭하세요. 자세한 내용은 Jupyter <a href='command:jupyter.viewOutput'>로그</a>를 참조하세요."
     ]
    }
   ],
   "source": [
    "# 커널이 죽는 구간 why? version이 호환이 안되서 그렇다는데 정확한건 ㅁ?ㄹ\n",
    "model = Sequential()"
   ]
  },
  {
   "cell_type": "code",
   "execution_count": null,
   "metadata": {},
   "outputs": [],
   "source": [
    "# label_num = np.argmax(label, 1)"
   ]
  },
  {
   "cell_type": "code",
   "execution_count": null,
   "metadata": {},
   "outputs": [],
   "source": [
    "# img = img / 255.0"
   ]
  },
  {
   "cell_type": "code",
   "execution_count": null,
   "metadata": {},
   "outputs": [],
   "source": [
    "# 데이터셋이 준비되었는지 시각화해서 확인\n",
    "# fig = plt.figure(figsize=(30, 20))\n",
    "\n",
    "# for i in range(30):\n",
    "#     subplot = fig.add_subplot(6, 5, i + 1)\n",
    "#     subplot.set_xticks([])\n",
    "#     subplot.set_yticks([])\n",
    "    \n",
    "#     #이미지의 label (종류 조회)\n",
    "#     # 0 : incorrect_mask\n",
    "#     # 1 : with_mask\n",
    "#     # 2 : without_mask\n",
    "#     subplot.set_title('label: %d' % label_num[i])\n",
    "#     subplot.imshow(img[i].reshape((IMG_HEIGHT, IMG_WIDTH,3)))\n",
    "\t\n",
    "# plt.show()"
   ]
  },
  {
   "cell_type": "code",
   "execution_count": null,
   "metadata": {},
   "outputs": [],
   "source": [
    "plt.figure(figsize=(20, 10))\n",
    "plt.imshow(img.reshape((IMG_HEIGHT, IMG_WIDTH, 3)) / 255)\n",
    "plt.show()"
   ]
  },
  {
   "cell_type": "code",
   "execution_count": null,
   "metadata": {},
   "outputs": [],
   "source": [
    "index = 0\n",
    "all_generate_img = []\n",
    "\n",
    "# datagen.flow(img) : img를 회전, 수평이동, 수직이동, 좌우반전, 상하 반전등으로 증강 시켜서 리턴\n",
    "# generate_img : 증강 시킨 데이터가 저장됨\n",
    "for generate_img in datagen.flow(img): \n",
    "    all_generate_img.append(generate_img) # generate_img 증강시킨 이미지를 all_generate_img 에 추가\n",
    "    index += 1\n",
    "    if index > 20:\n",
    "        break  "
   ]
  },
  {
   "cell_type": "code",
   "execution_count": null,
   "metadata": {},
   "outputs": [],
   "source": [
    "fig = plt.figure(figsize=(20, 10))\n",
    "\n",
    "for i in range(20):\n",
    "    subplot = fig.add_subplot(4, 5, i + 1)\n",
    "    subplot.set_xticks([])\n",
    "    subplot.set_yticks([])   \n",
    "    subplot.imshow(all_generate_img[i][0] / 255)\n",
    "plt.show()"
   ]
  },
  {
   "cell_type": "code",
   "execution_count": null,
   "metadata": {},
   "outputs": [],
   "source": []
  }
 ],
 "metadata": {
  "kernelspec": {
   "display_name": "test",
   "language": "python",
   "name": "python3"
  },
  "language_info": {
   "codemirror_mode": {
    "name": "ipython",
    "version": 3
   },
   "file_extension": ".py",
   "mimetype": "text/x-python",
   "name": "python",
   "nbconvert_exporter": "python",
   "pygments_lexer": "ipython3",
   "version": "3.7.15"
  },
  "orig_nbformat": 4,
  "vscode": {
   "interpreter": {
    "hash": "eb0112c456f82d9d2ffc2ba40e932c79270a28c5f552c1ea081145b825aa262c"
   }
  }
 },
 "nbformat": 4,
 "nbformat_minor": 2
}
